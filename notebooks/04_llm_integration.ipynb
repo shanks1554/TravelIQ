{
 "cells": [
  {
   "cell_type": "markdown",
   "metadata": {},
   "source": [
    "# Load FAISS, Data, and LLM Securely"
   ]
  },
  {
   "cell_type": "code",
   "execution_count": 1,
   "metadata": {},
   "outputs": [],
   "source": [
    "import os\n",
    "import faiss\n",
    "import numpy as np\n",
    "import pandas as pd\n",
    "from dotenv import load_dotenv\n",
    "from huggingface_hub import login\n",
    "from langchain_community.llms import HuggingFaceHub"
   ]
  },
  {
   "cell_type": "markdown",
   "metadata": {},
   "source": [
    "Load environment variables from .env"
   ]
  },
  {
   "cell_type": "code",
   "execution_count": 2,
   "metadata": {},
   "outputs": [],
   "source": [
    "load_dotenv()\n",
    "HUGGINGFACE_API_KEY = os.getenv(\"HUGGINGFACE_API_KEY\")"
   ]
  },
  {
   "cell_type": "code",
   "execution_count": 3,
   "metadata": {},
   "outputs": [],
   "source": [
    "login(token=HUGGINGFACE_API_KEY)"
   ]
  },
  {
   "cell_type": "code",
   "execution_count": 4,
   "metadata": {},
   "outputs": [
    {
     "name": "stdout",
     "output_type": "stream",
     "text": [
      "Hugging Face API Key Loaded Successfully!\n"
     ]
    }
   ],
   "source": [
    "if HUGGINGFACE_API_KEY:\n",
    "    print(\"Hugging Face API Key Loaded Successfully!\")\n",
    "else:\n",
    "    print(\"ERROR: Hugging Face API Key not found. Check .env file.\")"
   ]
  },
  {
   "cell_type": "markdown",
   "metadata": {},
   "source": [
    "# Authenticate with Hugging Face"
   ]
  },
  {
   "cell_type": "code",
   "execution_count": 5,
   "metadata": {},
   "outputs": [],
   "source": [
    "import requests"
   ]
  },
  {
   "cell_type": "code",
   "execution_count": 6,
   "metadata": {},
   "outputs": [],
   "source": [
    "HF_MODEL = \"mistralai/Mistral-7B-Instruct-v0.3\"\n",
    "HF_URL = f\"https://api-inference.huggingface.co/models/{HF_MODEL}\""
   ]
  },
  {
   "cell_type": "code",
   "execution_count": 7,
   "metadata": {},
   "outputs": [],
   "source": [
    "headers = {\"Authorization\": f\"Bearer {HUGGINGFACE_API_KEY}\"}\n",
    "response = requests.get(HF_URL, headers=headers)"
   ]
  },
  {
   "cell_type": "code",
   "execution_count": 8,
   "metadata": {},
   "outputs": [
    {
     "name": "stdout",
     "output_type": "stream",
     "text": [
      "Successfully authenticated with Hugging Face API! Model: mistralai/Mistral-7B-Instruct-v0.3\n"
     ]
    }
   ],
   "source": [
    "if response.status_code == 200:\n",
    "    print(f\"Successfully authenticated with Hugging Face API! Model: {HF_MODEL}\")\n",
    "elif response.status_code == 403:\n",
    "    print(\"ERROR: Invalid API Key or access denied.\")\n",
    "elif response.status_code == 404:\n",
    "    print(f\"ERROR: Model '{HF_MODEL}' not found. Check the model name.\")\n",
    "else:\n",
    "    print(f\"ERROR {response.status_code}: {response.text}\")"
   ]
  },
  {
   "cell_type": "markdown",
   "metadata": {},
   "source": [
    "# Load FAISS Index"
   ]
  },
  {
   "cell_type": "code",
   "execution_count": 9,
   "metadata": {},
   "outputs": [],
   "source": [
    "faiss_index_path = \"../faiss_index.bin\"\n",
    "faiss_index = faiss.read_index(faiss_index_path)"
   ]
  },
  {
   "cell_type": "code",
   "execution_count": 10,
   "metadata": {},
   "outputs": [
    {
     "name": "stdout",
     "output_type": "stream",
     "text": [
      "FAISS index loaded! Number of vectors: 87396\n"
     ]
    }
   ],
   "source": [
    "print(f\"FAISS index loaded! Number of vectors: {faiss_index.ntotal}\")"
   ]
  },
  {
   "cell_type": "markdown",
   "metadata": {},
   "source": [
    "# Load Dataset with Booking Details"
   ]
  },
  {
   "cell_type": "code",
   "execution_count": 11,
   "metadata": {},
   "outputs": [],
   "source": [
    "df = pd.read_csv(\"../data/hotel_bookings_with_embeddings.csv\")"
   ]
  },
  {
   "cell_type": "code",
   "execution_count": 12,
   "metadata": {},
   "outputs": [
    {
     "name": "stdout",
     "output_type": "stream",
     "text": [
      "Dataset loaded! Sample data:\n",
      "          hotel  is_canceled  lead_time  arrival_date_year  \\\n",
      "0  Resort Hotel            0        342               2015   \n",
      "1  Resort Hotel            0        737               2015   \n",
      "2  Resort Hotel            0          7               2015   \n",
      "3  Resort Hotel            0         13               2015   \n",
      "4  Resort Hotel            0         14               2015   \n",
      "\n",
      "   arrival_date_month  arrival_date_week_number  arrival_date_day_of_month  \\\n",
      "0                   7                        27                          1   \n",
      "1                   7                        27                          1   \n",
      "2                   7                        27                          1   \n",
      "3                   7                        27                          1   \n",
      "4                   7                        27                          1   \n",
      "\n",
      "   stays_in_weekend_nights  stays_in_week_nights  adults  ...   adr  \\\n",
      "0                        0                     0       2  ...   0.0   \n",
      "1                        0                     0       2  ...   0.0   \n",
      "2                        0                     1       1  ...  75.0   \n",
      "3                        0                     1       1  ...  75.0   \n",
      "4                        0                     2       2  ...  98.0   \n",
      "\n",
      "   required_car_parking_spaces total_of_special_requests reservation_status  \\\n",
      "0                            0                         0          Check-Out   \n",
      "1                            0                         0          Check-Out   \n",
      "2                            0                         0          Check-Out   \n",
      "3                            0                         0          Check-Out   \n",
      "4                            0                         1          Check-Out   \n",
      "\n",
      "  reservation_status_date arrival_date  total_revenue  total_nights  \\\n",
      "0              2015-07-01   2015-07-01            0.0             0   \n",
      "1              2015-07-01   2015-07-01            0.0             0   \n",
      "2              2015-07-02   2015-07-01           75.0             1   \n",
      "3              2015-07-02   2015-07-01           75.0             1   \n",
      "4              2015-07-03   2015-07-01          196.0             2   \n",
      "\n",
      "                                           text_data embedding_index  \n",
      "0  Resort Hotel Portugal C Direct Transient No De...               0  \n",
      "1  Resort Hotel Portugal C Direct Transient No De...               1  \n",
      "2  Resort Hotel United Kingdom A Direct Transient...               2  \n",
      "3  Resort Hotel United Kingdom A Corporate Transi...               3  \n",
      "4  Resort Hotel United Kingdom A Online TA Transi...               4  \n",
      "\n",
      "[5 rows x 37 columns]\n"
     ]
    }
   ],
   "source": [
    "print(\"Dataset loaded! Sample data:\")\n",
    "print(df.head())"
   ]
  },
  {
   "cell_type": "markdown",
   "metadata": {},
   "source": [
    "# Load LangChain LLM (Mistral)"
   ]
  },
  {
   "cell_type": "code",
   "execution_count": 13,
   "metadata": {},
   "outputs": [
    {
     "name": "stderr",
     "output_type": "stream",
     "text": [
      "C:\\Users\\Deep\\AppData\\Local\\Temp\\ipykernel_19476\\451870677.py:1: LangChainDeprecationWarning: The class `HuggingFaceHub` was deprecated in LangChain 0.0.21 and will be removed in 1.0. An updated version of the class exists in the :class:`~langchain-huggingface package and should be used instead. To use it run `pip install -U :class:`~langchain-huggingface` and import as `from :class:`~langchain_huggingface import HuggingFaceEndpoint``.\n",
      "  llm = HuggingFaceHub(\n"
     ]
    }
   ],
   "source": [
    "llm = HuggingFaceHub(\n",
    "    repo_id=\"mistralai/Mistral-7B-Instruct-v0.3\",  # Model name\n",
    "    model_kwargs={\"temperature\": 0.7, \"max_length\": 200},  # Adjust parameters as needed\n",
    "    huggingfacehub_api_token=HUGGINGFACE_API_KEY  # Use API Key from .env\n",
    ")"
   ]
  },
  {
   "cell_type": "markdown",
   "metadata": {},
   "source": [
    "# Search FAISS & Get AI Response"
   ]
  },
  {
   "cell_type": "code",
   "execution_count": 14,
   "metadata": {},
   "outputs": [],
   "source": [
    "def search_faiss(query, top_k=5):\n",
    "    \"\"\"\n",
    "    Converts a user query into an embedding, searches FAISS, \n",
    "    and retrieves the most similar hotel bookings.\n",
    "    \"\"\"\n",
    "    from sentence_transformers import SentenceTransformer\n",
    "\n",
    "    # Load embedding model\n",
    "    model = SentenceTransformer('all-MiniLM-L6-v2')\n",
    "\n",
    "    # Convert query into an embedding\n",
    "    query_embedding = model.encode([query])\n",
    "\n",
    "    # Search FAISS for the top_k most similar results\n",
    "    D, I = faiss_index.search(np.array(query_embedding, dtype=np.float32), k=top_k)\n",
    "\n",
    "    # Retrieve matching rows from the dataset\n",
    "    results = df.iloc[I[0]][['text_data', 'hotel', 'country', 'market_segment', 'reservation_status']]\n",
    "    \n",
    "    return results"
   ]
  },
  {
   "cell_type": "code",
   "execution_count": 15,
   "metadata": {},
   "outputs": [],
   "source": [
    "def generate_ai_response(query, top_k=3):\n",
    "    \"\"\"\n",
    "    Searches FAISS, retrieves relevant hotel bookings, \n",
    "    and generates a natural language response using LangChain.\n",
    "    \"\"\"\n",
    "    # Retrieve similar bookings from FAISS\n",
    "    results = search_faiss(query, top_k)\n",
    "\n",
    "    # Format retrieved results into a readable summary\n",
    "    context = \"\\n\".join(\n",
    "        [f\"Hotel: {row['hotel']}, Country: {row['country']}, Market Segment: {row['market_segment']}, Status: {row['reservation_status']}\"\n",
    "         for _, row in results.iterrows()]\n",
    "    )\n",
    "\n",
    "    # Construct the prompt\n",
    "    prompt = f\"User Query: {query}\\n\\nBased on the following bookings:\\n{context}\\n\\nCan you summarize this information?\"\n",
    "\n",
    "    # Generate AI response using LangChain\n",
    "    response = llm.invoke(prompt)\n",
    "\n",
    "    return response"
   ]
  },
  {
   "cell_type": "code",
   "execution_count": 16,
   "metadata": {},
   "outputs": [
    {
     "name": "stderr",
     "output_type": "stream",
     "text": [
      "c:\\Users\\Deep\\.conda\\envs\\TravelIQ\\Lib\\site-packages\\huggingface_hub\\utils\\_deprecation.py:131: FutureWarning: 'post' (from 'huggingface_hub.inference._client') is deprecated and will be removed from version '0.31.0'. Making direct POST requests to the inference server is not supported anymore. Please use task methods instead (e.g. `InferenceClient.chat_completion`). If your use case is not supported, please open an issue in https://github.com/huggingface/huggingface_hub.\n",
      "  warnings.warn(warning_message, FutureWarning)\n"
     ]
    },
    {
     "name": "stdout",
     "output_type": "stream",
     "text": [
      "\n",
      "TravelIQ Response:\n",
      "User Query: Find me hotels in Portugal with no deposit.\n",
      "\n",
      "Based on the following bookings:\n",
      "Hotel: City Hotel, Country: Portugal, Market Segment: Complementary, Status: Check-Out\n",
      "Hotel: City Hotel, Country: Portugal, Market Segment: Complementary, Status: Check-Out\n",
      "Hotel: City Hotel, Country: Portugal, Market Segment: Complementary, Status: Check-Out\n",
      "\n",
      "Can you summarize this information?\n",
      "\n",
      "Yes, I can help with that. The information provided suggests that there are three bookings for the City Hotel in Portugal, all under the market segment of \"Complementary\". This market segment seems to indicate that no deposit is required for these bookings as they are possibly part of a complimentary or free stay offer. However, it's essential to cross-check this information with the hotel or booking platform's terms and conditions to confirm the exact deposit policy for these reservations.\n"
     ]
    }
   ],
   "source": [
    "# Example Query\n",
    "user_query = \"Find me hotels in Portugal with no deposit.\"\n",
    "ai_response = generate_ai_response(user_query)\n",
    "\n",
    "print(\"\\nTravelIQ Response:\")\n",
    "print(ai_response)"
   ]
  }
 ],
 "metadata": {
  "kernelspec": {
   "display_name": "Python 3",
   "language": "python",
   "name": "python3"
  },
  "language_info": {
   "codemirror_mode": {
    "name": "ipython",
    "version": 3
   },
   "file_extension": ".py",
   "mimetype": "text/x-python",
   "name": "python",
   "nbconvert_exporter": "python",
   "pygments_lexer": "ipython3",
   "version": "3.13.2"
  }
 },
 "nbformat": 4,
 "nbformat_minor": 2
}
